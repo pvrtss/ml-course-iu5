{
 "cells": [
  {
   "cell_type": "markdown",
   "metadata": {},
   "source": [
    "ИУ5-62Б Еремихин Владислав Станиславович РК1 Вариант 7"
   ]
  },
  {
   "cell_type": "code",
   "execution_count": 1,
   "metadata": {},
   "outputs": [],
   "source": [
    "import pandas as pd\n",
    "import matplotlib.pyplot as plt\n",
    "import seaborn as sns\n",
    "import numpy as np\n",
    "import math as mth\n",
    "from sklearn.impute import SimpleImputer\n",
    "from functools import cmp_to_key"
   ]
  },
  {
   "cell_type": "code",
   "execution_count": 2,
   "metadata": {},
   "outputs": [],
   "source": [
    "df = pd.read_csv('googleplaystore.csv', sep=',')"
   ]
  },
  {
   "cell_type": "code",
   "execution_count": 3,
   "metadata": {},
   "outputs": [
    {
     "name": "stdout",
     "output_type": "stream",
     "text": [
      "<class 'pandas.core.frame.DataFrame'>\n",
      "RangeIndex: 10841 entries, 0 to 10840\n",
      "Data columns (total 13 columns):\n",
      " #   Column          Non-Null Count  Dtype  \n",
      "---  ------          --------------  -----  \n",
      " 0   App             10841 non-null  object \n",
      " 1   Category        10841 non-null  object \n",
      " 2   Rating          9367 non-null   float64\n",
      " 3   Reviews         10841 non-null  object \n",
      " 4   Size            10841 non-null  object \n",
      " 5   Installs        10841 non-null  object \n",
      " 6   Type            10840 non-null  object \n",
      " 7   Price           10841 non-null  object \n",
      " 8   Content Rating  10840 non-null  object \n",
      " 9   Genres          10841 non-null  object \n",
      " 10  Last Updated    10841 non-null  object \n",
      " 11  Current Ver     10833 non-null  object \n",
      " 12  Android Ver     10838 non-null  object \n",
      "dtypes: float64(1), object(12)\n",
      "memory usage: 1.1+ MB\n"
     ]
    }
   ],
   "source": [
    "df.info()"
   ]
  },
  {
   "cell_type": "code",
   "execution_count": 4,
   "metadata": {},
   "outputs": [
    {
     "data": {
      "text/html": [
       "<div>\n",
       "<style scoped>\n",
       "    .dataframe tbody tr th:only-of-type {\n",
       "        vertical-align: middle;\n",
       "    }\n",
       "\n",
       "    .dataframe tbody tr th {\n",
       "        vertical-align: top;\n",
       "    }\n",
       "\n",
       "    .dataframe thead th {\n",
       "        text-align: right;\n",
       "    }\n",
       "</style>\n",
       "<table border=\"1\" class=\"dataframe\">\n",
       "  <thead>\n",
       "    <tr style=\"text-align: right;\">\n",
       "      <th></th>\n",
       "      <th>App</th>\n",
       "      <th>Category</th>\n",
       "      <th>Rating</th>\n",
       "      <th>Reviews</th>\n",
       "      <th>Size</th>\n",
       "      <th>Installs</th>\n",
       "      <th>Type</th>\n",
       "      <th>Price</th>\n",
       "      <th>Content Rating</th>\n",
       "      <th>Genres</th>\n",
       "      <th>Last Updated</th>\n",
       "      <th>Current Ver</th>\n",
       "      <th>Android Ver</th>\n",
       "    </tr>\n",
       "  </thead>\n",
       "  <tbody>\n",
       "    <tr>\n",
       "      <th>0</th>\n",
       "      <td>Photo Editor &amp; Candy Camera &amp; Grid &amp; ScrapBook</td>\n",
       "      <td>ART_AND_DESIGN</td>\n",
       "      <td>4.1</td>\n",
       "      <td>159</td>\n",
       "      <td>19M</td>\n",
       "      <td>10,000+</td>\n",
       "      <td>Free</td>\n",
       "      <td>0</td>\n",
       "      <td>Everyone</td>\n",
       "      <td>Art &amp; Design</td>\n",
       "      <td>January 7, 2018</td>\n",
       "      <td>1.0.0</td>\n",
       "      <td>4.0.3 and up</td>\n",
       "    </tr>\n",
       "    <tr>\n",
       "      <th>1</th>\n",
       "      <td>Coloring book moana</td>\n",
       "      <td>ART_AND_DESIGN</td>\n",
       "      <td>3.9</td>\n",
       "      <td>967</td>\n",
       "      <td>14M</td>\n",
       "      <td>500,000+</td>\n",
       "      <td>Free</td>\n",
       "      <td>0</td>\n",
       "      <td>Everyone</td>\n",
       "      <td>Art &amp; Design;Pretend Play</td>\n",
       "      <td>January 15, 2018</td>\n",
       "      <td>2.0.0</td>\n",
       "      <td>4.0.3 and up</td>\n",
       "    </tr>\n",
       "    <tr>\n",
       "      <th>2</th>\n",
       "      <td>U Launcher Lite – FREE Live Cool Themes, Hide ...</td>\n",
       "      <td>ART_AND_DESIGN</td>\n",
       "      <td>4.7</td>\n",
       "      <td>87510</td>\n",
       "      <td>8.7M</td>\n",
       "      <td>5,000,000+</td>\n",
       "      <td>Free</td>\n",
       "      <td>0</td>\n",
       "      <td>Everyone</td>\n",
       "      <td>Art &amp; Design</td>\n",
       "      <td>August 1, 2018</td>\n",
       "      <td>1.2.4</td>\n",
       "      <td>4.0.3 and up</td>\n",
       "    </tr>\n",
       "    <tr>\n",
       "      <th>3</th>\n",
       "      <td>Sketch - Draw &amp; Paint</td>\n",
       "      <td>ART_AND_DESIGN</td>\n",
       "      <td>4.5</td>\n",
       "      <td>215644</td>\n",
       "      <td>25M</td>\n",
       "      <td>50,000,000+</td>\n",
       "      <td>Free</td>\n",
       "      <td>0</td>\n",
       "      <td>Teen</td>\n",
       "      <td>Art &amp; Design</td>\n",
       "      <td>June 8, 2018</td>\n",
       "      <td>Varies with device</td>\n",
       "      <td>4.2 and up</td>\n",
       "    </tr>\n",
       "    <tr>\n",
       "      <th>4</th>\n",
       "      <td>Pixel Draw - Number Art Coloring Book</td>\n",
       "      <td>ART_AND_DESIGN</td>\n",
       "      <td>4.3</td>\n",
       "      <td>967</td>\n",
       "      <td>2.8M</td>\n",
       "      <td>100,000+</td>\n",
       "      <td>Free</td>\n",
       "      <td>0</td>\n",
       "      <td>Everyone</td>\n",
       "      <td>Art &amp; Design;Creativity</td>\n",
       "      <td>June 20, 2018</td>\n",
       "      <td>1.1</td>\n",
       "      <td>4.4 and up</td>\n",
       "    </tr>\n",
       "    <tr>\n",
       "      <th>5</th>\n",
       "      <td>Paper flowers instructions</td>\n",
       "      <td>ART_AND_DESIGN</td>\n",
       "      <td>4.4</td>\n",
       "      <td>167</td>\n",
       "      <td>5.6M</td>\n",
       "      <td>50,000+</td>\n",
       "      <td>Free</td>\n",
       "      <td>0</td>\n",
       "      <td>Everyone</td>\n",
       "      <td>Art &amp; Design</td>\n",
       "      <td>March 26, 2017</td>\n",
       "      <td>1.0</td>\n",
       "      <td>2.3 and up</td>\n",
       "    </tr>\n",
       "    <tr>\n",
       "      <th>6</th>\n",
       "      <td>Smoke Effect Photo Maker - Smoke Editor</td>\n",
       "      <td>ART_AND_DESIGN</td>\n",
       "      <td>3.8</td>\n",
       "      <td>178</td>\n",
       "      <td>19M</td>\n",
       "      <td>50,000+</td>\n",
       "      <td>Free</td>\n",
       "      <td>0</td>\n",
       "      <td>Everyone</td>\n",
       "      <td>Art &amp; Design</td>\n",
       "      <td>April 26, 2018</td>\n",
       "      <td>1.1</td>\n",
       "      <td>4.0.3 and up</td>\n",
       "    </tr>\n",
       "    <tr>\n",
       "      <th>7</th>\n",
       "      <td>Infinite Painter</td>\n",
       "      <td>ART_AND_DESIGN</td>\n",
       "      <td>4.1</td>\n",
       "      <td>36815</td>\n",
       "      <td>29M</td>\n",
       "      <td>1,000,000+</td>\n",
       "      <td>Free</td>\n",
       "      <td>0</td>\n",
       "      <td>Everyone</td>\n",
       "      <td>Art &amp; Design</td>\n",
       "      <td>June 14, 2018</td>\n",
       "      <td>6.1.61.1</td>\n",
       "      <td>4.2 and up</td>\n",
       "    </tr>\n",
       "    <tr>\n",
       "      <th>8</th>\n",
       "      <td>Garden Coloring Book</td>\n",
       "      <td>ART_AND_DESIGN</td>\n",
       "      <td>4.4</td>\n",
       "      <td>13791</td>\n",
       "      <td>33M</td>\n",
       "      <td>1,000,000+</td>\n",
       "      <td>Free</td>\n",
       "      <td>0</td>\n",
       "      <td>Everyone</td>\n",
       "      <td>Art &amp; Design</td>\n",
       "      <td>September 20, 2017</td>\n",
       "      <td>2.9.2</td>\n",
       "      <td>3.0 and up</td>\n",
       "    </tr>\n",
       "    <tr>\n",
       "      <th>9</th>\n",
       "      <td>Kids Paint Free - Drawing Fun</td>\n",
       "      <td>ART_AND_DESIGN</td>\n",
       "      <td>4.7</td>\n",
       "      <td>121</td>\n",
       "      <td>3.1M</td>\n",
       "      <td>10,000+</td>\n",
       "      <td>Free</td>\n",
       "      <td>0</td>\n",
       "      <td>Everyone</td>\n",
       "      <td>Art &amp; Design;Creativity</td>\n",
       "      <td>July 3, 2018</td>\n",
       "      <td>2.8</td>\n",
       "      <td>4.0.3 and up</td>\n",
       "    </tr>\n",
       "  </tbody>\n",
       "</table>\n",
       "</div>"
      ],
      "text/plain": [
       "                                                 App        Category  Rating   \n",
       "0     Photo Editor & Candy Camera & Grid & ScrapBook  ART_AND_DESIGN     4.1  \\\n",
       "1                                Coloring book moana  ART_AND_DESIGN     3.9   \n",
       "2  U Launcher Lite – FREE Live Cool Themes, Hide ...  ART_AND_DESIGN     4.7   \n",
       "3                              Sketch - Draw & Paint  ART_AND_DESIGN     4.5   \n",
       "4              Pixel Draw - Number Art Coloring Book  ART_AND_DESIGN     4.3   \n",
       "5                         Paper flowers instructions  ART_AND_DESIGN     4.4   \n",
       "6            Smoke Effect Photo Maker - Smoke Editor  ART_AND_DESIGN     3.8   \n",
       "7                                   Infinite Painter  ART_AND_DESIGN     4.1   \n",
       "8                               Garden Coloring Book  ART_AND_DESIGN     4.4   \n",
       "9                      Kids Paint Free - Drawing Fun  ART_AND_DESIGN     4.7   \n",
       "\n",
       "  Reviews  Size     Installs  Type Price Content Rating   \n",
       "0     159   19M      10,000+  Free     0       Everyone  \\\n",
       "1     967   14M     500,000+  Free     0       Everyone   \n",
       "2   87510  8.7M   5,000,000+  Free     0       Everyone   \n",
       "3  215644   25M  50,000,000+  Free     0           Teen   \n",
       "4     967  2.8M     100,000+  Free     0       Everyone   \n",
       "5     167  5.6M      50,000+  Free     0       Everyone   \n",
       "6     178   19M      50,000+  Free     0       Everyone   \n",
       "7   36815   29M   1,000,000+  Free     0       Everyone   \n",
       "8   13791   33M   1,000,000+  Free     0       Everyone   \n",
       "9     121  3.1M      10,000+  Free     0       Everyone   \n",
       "\n",
       "                      Genres        Last Updated         Current Ver   \n",
       "0               Art & Design     January 7, 2018               1.0.0  \\\n",
       "1  Art & Design;Pretend Play    January 15, 2018               2.0.0   \n",
       "2               Art & Design      August 1, 2018               1.2.4   \n",
       "3               Art & Design        June 8, 2018  Varies with device   \n",
       "4    Art & Design;Creativity       June 20, 2018                 1.1   \n",
       "5               Art & Design      March 26, 2017                 1.0   \n",
       "6               Art & Design      April 26, 2018                 1.1   \n",
       "7               Art & Design       June 14, 2018            6.1.61.1   \n",
       "8               Art & Design  September 20, 2017               2.9.2   \n",
       "9    Art & Design;Creativity        July 3, 2018                 2.8   \n",
       "\n",
       "    Android Ver  \n",
       "0  4.0.3 and up  \n",
       "1  4.0.3 and up  \n",
       "2  4.0.3 and up  \n",
       "3    4.2 and up  \n",
       "4    4.4 and up  \n",
       "5    2.3 and up  \n",
       "6  4.0.3 and up  \n",
       "7    4.2 and up  \n",
       "8    3.0 and up  \n",
       "9  4.0.3 and up  "
      ]
     },
     "execution_count": 4,
     "metadata": {},
     "output_type": "execute_result"
    }
   ],
   "source": [
    "df.head(10)"
   ]
  },
  {
   "cell_type": "code",
   "execution_count": 5,
   "metadata": {},
   "outputs": [
    {
     "data": {
      "text/plain": [
       "App                  0\n",
       "Category             0\n",
       "Rating            1474\n",
       "Reviews              0\n",
       "Size                 0\n",
       "Installs             0\n",
       "Type                 1\n",
       "Price                0\n",
       "Content Rating       1\n",
       "Genres               0\n",
       "Last Updated         0\n",
       "Current Ver          8\n",
       "Android Ver          3\n",
       "dtype: int64"
      ]
     },
     "execution_count": 5,
     "metadata": {},
     "output_type": "execute_result"
    }
   ],
   "source": [
    "df.isna().sum()"
   ]
  },
  {
   "attachments": {},
   "cell_type": "markdown",
   "metadata": {},
   "source": [
    "Видно, что больше всего пропущенных значений в колонке 'Rating'. Выполним импьютацию медианного значения (также, избавимся от выпадающего из диапазона значения):"
   ]
  },
  {
   "cell_type": "code",
   "execution_count": 6,
   "metadata": {},
   "outputs": [
    {
     "name": "stdout",
     "output_type": "stream",
     "text": [
      "       Rating\n",
      "0         4.1\n",
      "1         3.9\n",
      "2         4.7\n",
      "3         4.5\n",
      "4         4.3\n",
      "...       ...\n",
      "10836     4.5\n",
      "10837     5.0\n",
      "10838     NaN\n",
      "10839     4.5\n",
      "10840     4.5\n",
      "\n",
      "[10841 rows x 1 columns]\n",
      "[ 1.   1.2  1.4  1.5  1.6  1.7  1.8  1.9  2.   2.1  2.2  2.3  2.4  2.5\n",
      "  2.6  2.7  2.8  2.9  3.   3.1  3.2  3.3  3.4  3.5  3.6  3.7  3.8  3.9\n",
      "  4.   4.1  4.2  4.3  4.4  4.5  4.6  4.7  4.8  4.9  5.  19.   nan]\n"
     ]
    }
   ],
   "source": [
    "ratings = df[['Rating']]\n",
    "print(ratings)\n",
    "print(np.unique(ratings))"
   ]
  },
  {
   "cell_type": "code",
   "execution_count": 7,
   "metadata": {},
   "outputs": [
    {
     "name": "stdout",
     "output_type": "stream",
     "text": [
      "[ 1.   1.2  1.4  1.5  1.6  1.7  1.8  1.9  2.   2.1  2.2  2.3  2.4  2.5\n",
      "  2.6  2.7  2.8  2.9  3.   3.1  3.2  3.3  3.4  3.5  3.6  3.7  3.8  3.9\n",
      "  4.   4.1  4.2  4.3  4.4  4.5  4.6  4.7  4.8  4.9  5.  19. ]\n",
      "[1.  1.2 1.4 1.5 1.6 1.7 1.8 1.9 2.  2.1 2.2 2.3 2.4 2.5 2.6 2.7 2.8 2.9\n",
      " 3.  3.1 3.2 3.3 3.4 3.5 3.6 3.7 3.8 3.9 4.  4.1 4.2 4.3 4.4 4.5 4.6 4.7\n",
      " 4.8 4.9 5. ]\n"
     ]
    }
   ],
   "source": [
    "# Выполним импьютацию\n",
    "imp_mean = SimpleImputer(missing_values=np.nan, strategy='median')\n",
    "imp_mean.fit(ratings)\n",
    "ratings = imp_mean.transform(ratings)\n",
    "print(np.unique(ratings))\n",
    "# Уберем некачественные значения\n",
    "for i in range(len(ratings)):\n",
    "    if ratings[i] > 5.:\n",
    "        ratings[i] = 5.\n",
    "print(np.unique(ratings))\n",
    "df['Rating'] = ratings\n"
   ]
  },
  {
   "attachments": {},
   "cell_type": "markdown",
   "metadata": {},
   "source": [
    "Заметим, что в остальных колонках количество пропущенных значений несущественно относительно общего количество строк в датасете, так что просто избавимся от них:"
   ]
  },
  {
   "cell_type": "code",
   "execution_count": 8,
   "metadata": {},
   "outputs": [
    {
     "data": {
      "text/plain": [
       "App               0\n",
       "Category          0\n",
       "Rating            0\n",
       "Reviews           0\n",
       "Size              0\n",
       "Installs          0\n",
       "Type              0\n",
       "Price             0\n",
       "Content Rating    0\n",
       "Genres            0\n",
       "Last Updated      0\n",
       "Current Ver       0\n",
       "Android Ver       0\n",
       "dtype: int64"
      ]
     },
     "execution_count": 8,
     "metadata": {},
     "output_type": "execute_result"
    }
   ],
   "source": [
    "df = df.dropna()\n",
    "df.isna().sum()"
   ]
  },
  {
   "attachments": {},
   "cell_type": "markdown",
   "metadata": {},
   "source": [
    "Теперь, приступим к подготовке к анализу. В датасете изначально только один числовой признак, но при этом большинство категориальных признаков можно разумно привести к числовым."
   ]
  },
  {
   "cell_type": "code",
   "execution_count": 9,
   "metadata": {},
   "outputs": [
    {
     "data": {
      "text/plain": [
       "array(['0+', '1+', '1,000+', '1,000,000+', '1,000,000,000+', '10+',\n",
       "       '10,000+', '10,000,000+', '100+', '100,000+', '100,000,000+', '5+',\n",
       "       '5,000+', '5,000,000+', '50+', '50,000+', '50,000,000+', '500+',\n",
       "       '500,000+', '500,000,000+'], dtype=object)"
      ]
     },
     "execution_count": 9,
     "metadata": {},
     "output_type": "execute_result"
    }
   ],
   "source": [
    "# Начнем с количества установок\n",
    "unique_installs = np.unique(df['Installs'])\n",
    "unique_installs"
   ]
  },
  {
   "cell_type": "code",
   "execution_count": 10,
   "metadata": {},
   "outputs": [
    {
     "data": {
      "text/plain": [
       "{'0+': 0,\n",
       " '1+': 1,\n",
       " '5+': 5,\n",
       " '10+': 10,\n",
       " '50+': 50,\n",
       " '100+': 100,\n",
       " '500+': 500,\n",
       " '1,000+': 1000,\n",
       " '5,000+': 5000,\n",
       " '10,000+': 10000,\n",
       " '50,000+': 50000,\n",
       " '100,000+': 100000,\n",
       " '500,000+': 500000,\n",
       " '1,000,000+': 1000000,\n",
       " '5,000,000+': 5000000,\n",
       " '10,000,000+': 10000000,\n",
       " '50,000,000+': 50000000,\n",
       " '100,000,000+': 100000000,\n",
       " '500,000,000+': 500000000,\n",
       " '1,000,000,000+': 1000000000}"
      ]
     },
     "execution_count": 10,
     "metadata": {},
     "output_type": "execute_result"
    }
   ],
   "source": [
    "def installs_to_int(installs):\n",
    "    return int(''.join(installs[:-1].split(',')))\n",
    "\n",
    "def compare_installs(x, y):\n",
    "    return installs_to_int(x) - installs_to_int(y)\n",
    "\n",
    "sorted_unique_installs_values = sorted(list(map(installs_to_int, unique_installs)))\n",
    "sorted_unique_installs = sorted(unique_installs, key=cmp_to_key(compare_installs))\n",
    "installs_order_map = {sorted_unique_installs[i]: sorted_unique_installs_values[i] for i in range(len(sorted_unique_installs))}\n",
    "\n",
    "installs_order_map"
   ]
  },
  {
   "cell_type": "code",
   "execution_count": 11,
   "metadata": {},
   "outputs": [
    {
     "data": {
      "text/plain": [
       "0           10000\n",
       "1          500000\n",
       "2         5000000\n",
       "3        50000000\n",
       "4          100000\n",
       "           ...   \n",
       "10836        5000\n",
       "10837         100\n",
       "10838        1000\n",
       "10839        1000\n",
       "10840    10000000\n",
       "Name: Installs, Length: 10829, dtype: int64"
      ]
     },
     "execution_count": 11,
     "metadata": {},
     "output_type": "execute_result"
    }
   ],
   "source": [
    "# Применим словарь преобразований к признаку\n",
    "df['Installs'] = df['Installs'].map(installs_order_map)\n",
    "df['Installs']"
   ]
  },
  {
   "cell_type": "code",
   "execution_count": 12,
   "metadata": {},
   "outputs": [
    {
     "data": {
      "text/plain": [
       "array(['Free', 'Paid'], dtype=object)"
      ]
     },
     "execution_count": 12,
     "metadata": {},
     "output_type": "execute_result"
    }
   ],
   "source": [
    "# Далее, разберёмся с колонкой 'Type' \n",
    "ut = np.unique(df['Type'])\n",
    "ut"
   ]
  },
  {
   "cell_type": "code",
   "execution_count": 13,
   "metadata": {},
   "outputs": [
    {
     "data": {
      "text/plain": [
       "0        True\n",
       "1        True\n",
       "2        True\n",
       "3        True\n",
       "4        True\n",
       "         ... \n",
       "10836    True\n",
       "10837    True\n",
       "10838    True\n",
       "10839    True\n",
       "10840    True\n",
       "Name: IsFree, Length: 10829, dtype: bool"
      ]
     },
     "execution_count": 13,
     "metadata": {},
     "output_type": "execute_result"
    }
   ],
   "source": [
    "# В данном случае просто превратить данное поле в bool и переименовать его для лучшей реперезентативности (это также оптимизирует работу с датасетом).\n",
    "def type_to_bool(type):\n",
    "    return True if type == 'Free' else False\n",
    "\n",
    "df['Type'] = list(map(type_to_bool,df['Type']))\n",
    "df.rename(columns={'Type': 'IsFree'}, inplace=True)\n",
    "df['IsFree']"
   ]
  },
  {
   "cell_type": "code",
   "execution_count": 14,
   "metadata": {},
   "outputs": [
    {
     "data": {
      "text/plain": [
       "array(['$0.99', '$1.00', '$1.04', '$1.20', '$1.26', '$1.29', '$1.49',\n",
       "       '$1.50', '$1.59', '$1.61', '$1.70', '$1.75', '$1.76', '$1.96',\n",
       "       '$1.97', '$1.99', '$10.00', '$10.99', '$109.99', '$11.99',\n",
       "       '$12.99', '$13.99', '$14.00', '$14.99', '$15.46', '$15.99',\n",
       "       '$154.99', '$16.99', '$17.99', '$18.99', '$19.40', '$19.90',\n",
       "       '$19.99', '$2.00', '$2.49', '$2.50', '$2.56', '$2.59', '$2.60',\n",
       "       '$2.90', '$2.95', '$2.99', '$200.00', '$24.99', '$25.99', '$28.99',\n",
       "       '$29.99', '$299.99', '$3.02', '$3.04', '$3.08', '$3.28', '$3.49',\n",
       "       '$3.61', '$3.88', '$3.90', '$3.95', '$3.99', '$30.99', '$33.99',\n",
       "       '$37.99', '$379.99', '$389.99', '$39.99', '$394.99', '$399.99',\n",
       "       '$4.29', '$4.49', '$4.59', '$4.60', '$4.77', '$4.80', '$4.84',\n",
       "       '$4.85', '$4.99', '$400.00', '$46.99', '$5.00', '$5.49', '$5.99',\n",
       "       '$6.49', '$6.99', '$7.49', '$7.99', '$74.99', '$79.99', '$8.49',\n",
       "       '$8.99', '$89.99', '$9.00', '$9.99', '0'], dtype=object)"
      ]
     },
     "execution_count": 14,
     "metadata": {},
     "output_type": "execute_result"
    }
   ],
   "source": [
    "# Для цен приложений сделаем то же самое, что и с количеством установок\n",
    "up = np.unique(df['Price'])\n",
    "up"
   ]
  },
  {
   "cell_type": "code",
   "execution_count": 15,
   "metadata": {},
   "outputs": [
    {
     "data": {
      "text/plain": [
       "{'0': 0.0,\n",
       " '$0.99': 0.99,\n",
       " '$1.00': 1.0,\n",
       " '$1.04': 1.04,\n",
       " '$1.20': 1.2,\n",
       " '$1.26': 1.26,\n",
       " '$1.29': 1.29,\n",
       " '$1.49': 1.49,\n",
       " '$1.50': 1.5,\n",
       " '$1.59': 1.59,\n",
       " '$1.61': 1.61,\n",
       " '$1.70': 1.7,\n",
       " '$1.75': 1.75,\n",
       " '$1.76': 1.76,\n",
       " '$1.96': 1.96,\n",
       " '$1.97': 1.97,\n",
       " '$1.99': 1.99,\n",
       " '$2.00': 2.0,\n",
       " '$2.49': 2.49,\n",
       " '$2.50': 2.5,\n",
       " '$2.56': 2.56,\n",
       " '$2.59': 2.59,\n",
       " '$2.60': 2.6,\n",
       " '$2.90': 2.9,\n",
       " '$2.95': 2.95,\n",
       " '$2.99': 2.99,\n",
       " '$3.02': 3.02,\n",
       " '$3.04': 3.04,\n",
       " '$3.08': 3.08,\n",
       " '$3.28': 3.28,\n",
       " '$3.49': 3.49,\n",
       " '$3.61': 3.61,\n",
       " '$3.88': 3.88,\n",
       " '$3.90': 3.9,\n",
       " '$3.95': 3.95,\n",
       " '$3.99': 3.99,\n",
       " '$4.29': 4.29,\n",
       " '$4.49': 4.49,\n",
       " '$4.59': 4.59,\n",
       " '$4.60': 4.6,\n",
       " '$4.77': 4.77,\n",
       " '$4.80': 4.8,\n",
       " '$4.84': 4.84,\n",
       " '$4.85': 4.85,\n",
       " '$4.99': 4.99,\n",
       " '$5.00': 5.0,\n",
       " '$5.49': 5.49,\n",
       " '$5.99': 5.99,\n",
       " '$6.49': 6.49,\n",
       " '$6.99': 6.99,\n",
       " '$7.49': 7.49,\n",
       " '$7.99': 7.99,\n",
       " '$8.49': 8.49,\n",
       " '$8.99': 8.99,\n",
       " '$9.00': 9.0,\n",
       " '$9.99': 9.99,\n",
       " '$10.00': 10.0,\n",
       " '$10.99': 10.99,\n",
       " '$11.99': 11.99,\n",
       " '$12.99': 12.99,\n",
       " '$13.99': 13.99,\n",
       " '$14.00': 14.0,\n",
       " '$14.99': 14.99,\n",
       " '$15.46': 15.46,\n",
       " '$15.99': 15.99,\n",
       " '$16.99': 16.99,\n",
       " '$17.99': 17.99,\n",
       " '$18.99': 18.99,\n",
       " '$19.40': 19.4,\n",
       " '$19.90': 19.9,\n",
       " '$19.99': 19.99,\n",
       " '$24.99': 24.99,\n",
       " '$25.99': 25.99,\n",
       " '$28.99': 28.99,\n",
       " '$29.99': 29.99,\n",
       " '$30.99': 30.99,\n",
       " '$33.99': 33.99,\n",
       " '$37.99': 37.99,\n",
       " '$39.99': 39.99,\n",
       " '$46.99': 46.99,\n",
       " '$74.99': 74.99,\n",
       " '$79.99': 79.99,\n",
       " '$89.99': 89.99,\n",
       " '$109.99': 109.99,\n",
       " '$154.99': 154.99,\n",
       " '$200.00': 200.0,\n",
       " '$299.99': 299.99,\n",
       " '$379.99': 379.99,\n",
       " '$389.99': 389.99,\n",
       " '$394.99': 394.99,\n",
       " '$399.99': 399.99,\n",
       " '$400.00': 400.0}"
      ]
     },
     "execution_count": 15,
     "metadata": {},
     "output_type": "execute_result"
    }
   ],
   "source": [
    "up = np.unique(df['Price'])\n",
    "def price_to_float(price):\n",
    "    return .0 if price == 'Everyone' or price == '0' else float(price[1:])\n",
    "\n",
    "sorted_unique_prices_values = sorted(list(map(price_to_float, up)))\n",
    "\n",
    "def compare_prices(x, y):\n",
    "    return price_to_float(x) - price_to_float(y)\n",
    "\n",
    "sorted_unique_prices = sorted(up, key=cmp_to_key(compare_prices))\n",
    "\n",
    "prices_order_map = {sorted_unique_prices[i]: sorted_unique_prices_values[i] for i in range(len(sorted_unique_prices))}\n",
    "prices_order_map"
   ]
  },
  {
   "cell_type": "code",
   "execution_count": 16,
   "metadata": {},
   "outputs": [
    {
     "data": {
      "text/plain": [
       "0        0.0\n",
       "1        0.0\n",
       "2        0.0\n",
       "3        0.0\n",
       "4        0.0\n",
       "        ... \n",
       "10836    0.0\n",
       "10837    0.0\n",
       "10838    0.0\n",
       "10839    0.0\n",
       "10840    0.0\n",
       "Name: Price, Length: 10829, dtype: float64"
      ]
     },
     "execution_count": 16,
     "metadata": {},
     "output_type": "execute_result"
    }
   ],
   "source": [
    "# Применим изменения\n",
    "df['Price'] = df['Price'].map(prices_order_map)\n",
    "df['Price']"
   ]
  },
  {
   "cell_type": "code",
   "execution_count": 17,
   "metadata": {},
   "outputs": [
    {
     "name": "stdout",
     "output_type": "stream",
     "text": [
      "['1.0M' '1.1M' '1.2M' '1.3M' '1.4M' '1.5M' '1.6M' '1.7M' '1.8M' '1.9M'\n",
      " '10.0M' '100M' '1020k' '103k' '108k' '10M' '116k' '118k' '11M' '121k'\n",
      " '122k' '12M' '13M' '141k' '143k' '144k' '14M' '14k' '153k' '154k' '157k'\n",
      " '15M' '160k' '161k' '164k' '169k' '16M' '170k' '172k' '173k' '175k'\n",
      " '176k' '17M' '17k' '186k' '18M' '18k' '190k' '191k' '192k' '193k' '196k'\n",
      " '19M' '2.0M' '2.1M' '2.2M' '2.3M' '2.4M' '2.5M' '2.6M' '2.7M' '2.8M'\n",
      " '2.9M' '200k' '201k' '203k' '206k' '208k' '209k' '20M' '20k' '210k'\n",
      " '219k' '21M' '220k' '221k' '226k' '228k' '22M' '232k' '234k' '238k'\n",
      " '239k' '23M' '23k' '240k' '241k' '243k' '245k' '246k' '24M' '24k' '251k'\n",
      " '253k' '257k' '259k' '25M' '25k' '266k' '269k' '26M' '26k' '270k' '27M'\n",
      " '27k' '280k' '283k' '288k' '28M' '28k' '292k' '293k' '29M' '29k' '3.0M'\n",
      " '3.1M' '3.2M' '3.3M' '3.4M' '3.5M' '3.6M' '3.7M' '3.8M' '3.9M' '306k'\n",
      " '308k' '309k' '30M' '313k' '314k' '317k' '318k' '319k' '31M' '322k'\n",
      " '323k' '329k' '32M' '334k' '335k' '33M' '33k' '34M' '34k' '350k' '351k'\n",
      " '353k' '35M' '364k' '36M' '371k' '373k' '375k' '376k' '378k' '37M' '383k'\n",
      " '387k' '38M' '39M' '39k' '4.0M' '4.1M' '4.2M' '4.3M' '4.4M' '4.5M' '4.6M'\n",
      " '4.7M' '4.8M' '4.9M' '400k' '404k' '40M' '411k' '412k' '414k' '417k'\n",
      " '41M' '41k' '420k' '421k' '429k' '42M' '430k' '437k' '43M' '442k' '444k'\n",
      " '44M' '44k' '454k' '458k' '459k' '45M' '45k' '460k' '467k' '46M' '470k'\n",
      " '473k' '475k' '478k' '47M' '485k' '48M' '48k' '496k' '498k' '499k' '49M'\n",
      " '5.0M' '5.1M' '5.2M' '5.3M' '5.4M' '5.5M' '5.6M' '5.7M' '5.8M' '5.9M'\n",
      " '500k' '506k' '50M' '50k' '511k' '514k' '516k' '518k' '51M' '51k' '523k'\n",
      " '525k' '526k' '52M' '53M' '540k' '544k' '545k' '549k' '54M' '54k' '551k'\n",
      " '552k' '554k' '556k' '55M' '55k' '562k' '569k' '56M' '57M' '582k' '585k'\n",
      " '58M' '58k' '592k' '597k' '598k' '59M' '6.0M' '6.1M' '6.2M' '6.3M' '6.4M'\n",
      " '6.5M' '6.6M' '6.7M' '6.8M' '6.9M' '600k' '601k' '608k' '609k' '60M'\n",
      " '613k' '619k' '61M' '61k' '624k' '626k' '629k' '62M' '636k' '63M' '642k'\n",
      " '643k' '647k' '64M' '655k' '656k' '65M' '663k' '66M' '676k' '67M' '67k'\n",
      " '683k' '688k' '68M' '691k' '695k' '696k' '69M' '7.0M' '7.1M' '7.2M'\n",
      " '7.3M' '7.4M' '7.5M' '7.6M' '7.7M' '7.8M' '7.9M' '704k' '705k' '70M'\n",
      " '70k' '713k' '714k' '716k' '717k' '71M' '720k' '721k' '728k' '72M' '72k'\n",
      " '730k' '73M' '73k' '743k' '746k' '749k' '74M' '74k' '754k' '756k' '75M'\n",
      " '76M' '772k' '775k' '778k' '779k' '77M' '780k' '782k' '784k' '785k'\n",
      " '787k' '78M' '78k' '79M' '79k' '8.0M' '8.1M' '8.2M' '8.3M' '8.4M' '8.5M'\n",
      " '8.5k' '8.6M' '8.7M' '8.8M' '8.9M' '801k' '809k' '80M' '811k' '812k'\n",
      " '816k' '818k' '81M' '81k' '82M' '82k' '837k' '83M' '840k' '842k' '847k'\n",
      " '84M' '853k' '857k' '85M' '860k' '861k' '862k' '865k' '86M' '872k' '874k'\n",
      " '879k' '87M' '881k' '885k' '887k' '88M' '892k' '898k' '899k' '89M' '89k'\n",
      " '9.0M' '9.1M' '9.2M' '9.3M' '9.4M' '9.5M' '9.6M' '9.7M' '9.8M' '9.9M'\n",
      " '902k' '903k' '904k' '90M' '913k' '914k' '916k' '91M' '91k' '920k' '921k'\n",
      " '924k' '92M' '930k' '939k' '93M' '93k' '940k' '942k' '948k' '94M' '951k'\n",
      " '953k' '954k' '957k' '95M' '961k' '963k' '965k' '96M' '970k' '975k'\n",
      " '976k' '97M' '97k' '980k' '981k' '982k' '986k' '98M' '992k' '994k' '99M'\n",
      " 'Varies with device'] 457\n"
     ]
    }
   ],
   "source": [
    "# Признак 'Size'\n",
    "us = np.unique(df['Size'])\n",
    "print(us, len(us))"
   ]
  },
  {
   "cell_type": "code",
   "execution_count": 18,
   "metadata": {},
   "outputs": [],
   "source": [
    "# Уберем неизвестные данные\n",
    "df = df.drop(df[df['Size'] == 'Varies with device'].index)"
   ]
  },
  {
   "cell_type": "code",
   "execution_count": 19,
   "metadata": {},
   "outputs": [
    {
     "name": "stdout",
     "output_type": "stream",
     "text": [
      "['M' 'k']\n"
     ]
    }
   ],
   "source": [
    "# Проверим сколько различных приставок размеров в нашем датасете\n",
    "last_chars = [x[-1] for x in np.unique(df['Size'])]\n",
    "print(np.unique(last_chars))"
   ]
  },
  {
   "cell_type": "code",
   "execution_count": 20,
   "metadata": {},
   "outputs": [
    {
     "data": {
      "text/plain": [
       "0        19000\n",
       "1        14000\n",
       "2         8700\n",
       "3        25000\n",
       "4         2800\n",
       "         ...  \n",
       "10835     9600\n",
       "10836    53000\n",
       "10837     3600\n",
       "10838     9500\n",
       "10840    19000\n",
       "Name: Size, Length: 9135, dtype: int64"
      ]
     },
     "execution_count": 20,
     "metadata": {},
     "output_type": "execute_result"
    }
   ],
   "source": [
    "# Среди даннных существует всего лишь два типа размера: килобайты и мегабайты, так что мы с легкостью напишем функцию преобразования\n",
    "df['Size'] = list(map(lambda s: int(float(s[:-1])) if s[-1] == 'k' else int(float(s[:-1]) * 1000), df['Size']))\n",
    "# Тем самым, приведем размеры к численному значению в килобайтах\n",
    "df['Size']"
   ]
  },
  {
   "cell_type": "code",
   "execution_count": 21,
   "metadata": {},
   "outputs": [],
   "source": [
    "# C 'Reviews' все еще проще\n",
    "df['Reviews'] = df['Reviews'].apply(int)"
   ]
  },
  {
   "cell_type": "code",
   "execution_count": 22,
   "metadata": {},
   "outputs": [
    {
     "name": "stdout",
     "output_type": "stream",
     "text": [
      "['1.0 and up' '1.5 and up' '1.6 and up' '2.0 and up' '2.0.1 and up'\n",
      " '2.1 and up' '2.2 - 7.1.1' '2.2 and up' '2.3 and up' '2.3.3 and up'\n",
      " '3.0 and up' '3.1 and up' '3.2 and up' '4.0 and up' '4.0.3 - 7.1.1'\n",
      " '4.0.3 and up' '4.1 - 7.1.1' '4.1 and up' '4.2 and up' '4.3 and up'\n",
      " '4.4 and up' '4.4W and up' '5.0 - 6.0' '5.0 - 7.1.1' '5.0 - 8.0'\n",
      " '5.0 and up' '5.1 and up' '6.0 and up' '7.0 - 7.1.1' '7.0 and up'\n",
      " '7.1 and up' '8.0 and up' 'Varies with device'] 33\n"
     ]
    }
   ],
   "source": [
    "# Последний признак, который целесообразно привести к числовому, это 'Android Ver'\n",
    "uav = np.unique(df['Android Ver'])\n",
    "\n",
    "print(uav, len(uav))"
   ]
  },
  {
   "cell_type": "code",
   "execution_count": 23,
   "metadata": {},
   "outputs": [
    {
     "name": "stdout",
     "output_type": "stream",
     "text": [
      "9079\n"
     ]
    },
    {
     "data": {
      "text/plain": [
       "0        4.03\n",
       "1        4.03\n",
       "2        4.03\n",
       "3        4.20\n",
       "4        4.40\n",
       "         ... \n",
       "10834    4.10\n",
       "10835    4.00\n",
       "10836    4.10\n",
       "10837    4.10\n",
       "10838    2.20\n",
       "Name: Android Ver, Length: 9079, dtype: float64"
      ]
     },
     "execution_count": 23,
     "metadata": {},
     "output_type": "execute_result"
    }
   ],
   "source": [
    "# Отбросим данные с неизвестными значениями\n",
    "df = df.drop(df[df['Android Ver'] == 'Varies with device'].index)\n",
    "av = df['Android Ver']\n",
    "print(len(av))\n",
    "# Приведем все версии с 'and up' к начальной, а все версии с диапазаном - к последней\n",
    "def format_android_ver(ver):\n",
    "    if ver.endswith('and up'):\n",
    "        return ver.split(' ')[0][:-1] if ver.split(' ')[0][-1] == 'W' else ver.split(' ')[0]\n",
    "    if  '-' in ver:\n",
    "        return ver.split(' ')[-1]\n",
    "    return ver\n",
    "\n",
    "av = list(map(format_android_ver, av))\n",
    "av = list(map(lambda v: float('.'.join([v.split('.')[0], ''.join(v.split('.')[1:])])), av))\n",
    "\n",
    "df['Android Ver'] = av\n",
    "df['Android Ver']"
   ]
  },
  {
   "cell_type": "code",
   "execution_count": 24,
   "metadata": {},
   "outputs": [
    {
     "name": "stdout",
     "output_type": "stream",
     "text": [
      "<class 'pandas.core.frame.DataFrame'>\n",
      "Index: 9079 entries, 0 to 10838\n",
      "Data columns (total 13 columns):\n",
      " #   Column          Non-Null Count  Dtype  \n",
      "---  ------          --------------  -----  \n",
      " 0   App             9079 non-null   object \n",
      " 1   Category        9079 non-null   object \n",
      " 2   Rating          9079 non-null   float64\n",
      " 3   Reviews         9079 non-null   int64  \n",
      " 4   Size            9079 non-null   int64  \n",
      " 5   Installs        9079 non-null   int64  \n",
      " 6   IsFree          9079 non-null   bool   \n",
      " 7   Price           9079 non-null   float64\n",
      " 8   Content Rating  9079 non-null   object \n",
      " 9   Genres          9079 non-null   object \n",
      " 10  Last Updated    9079 non-null   object \n",
      " 11  Current Ver     9079 non-null   object \n",
      " 12  Android Ver     9079 non-null   float64\n",
      "dtypes: bool(1), float64(3), int64(3), object(6)\n",
      "memory usage: 931.0+ KB\n"
     ]
    }
   ],
   "source": [
    "df.info()"
   ]
  },
  {
   "attachments": {},
   "cell_type": "markdown",
   "metadata": {},
   "source": [
    "Мы получили все более-менее осмысленные числовые признаки из датасета. Теперь приступим к корреляционному анализу:"
   ]
  },
  {
   "cell_type": "code",
   "execution_count": 25,
   "metadata": {},
   "outputs": [
    {
     "data": {
      "text/plain": [
       "<Axes: >"
      ]
     },
     "execution_count": 25,
     "metadata": {},
     "output_type": "execute_result"
    },
    {
     "data": {
      "image/png": "[encoded data removed]",
      "text/plain": [
       "<Figure size 640x480 with 2 Axes>"
      ]
     },
     "metadata": {},
     "output_type": "display_data"
    }
   ],
   "source": [
    "mask = np.zeros_like(df.corr(numeric_only=True), dtype=bool)\n",
    "mask[np.tril_indices_from(mask)] = True\n",
    "sns.heatmap(df.corr(numeric_only=True), mask=mask, annot=True, fmt='.3f')"
   ]
  },
  {
   "attachments": {},
   "cell_type": "markdown",
   "metadata": {},
   "source": [
    "Видно, что хорошо коррелируют только размер приложения и количество скачиваний, что наводит на мысли о зависимости этих признаков. Также неплохо коррелируют пары: размер приложения с количеством скачиваний, количество отзывов с размером приложения и версия Android с размером приложения. Скорее всего, данный датасет не подходит для построения моделей машинного обучения (например, в силу отсутствия явных целевых признаков и слабой корреляции представленных (как следствие, и их незначительного вклада в модель))."
   ]
  },
  {
   "attachments": {},
   "cell_type": "markdown",
   "metadata": {},
   "source": [
    "Построение гистограммы:"
   ]
  },
  {
   "cell_type": "code",
   "execution_count": 26,
   "metadata": {},
   "outputs": [
    {
     "data": {
      "text/plain": [
       "<Axes: xlabel='Rating', ylabel='Density'>"
      ]
     },
     "execution_count": 26,
     "metadata": {},
     "output_type": "execute_result"
    },
    {
     "data": {
      "image/png": "[encoded data removed]",
      "text/plain": [
       "<Figure size 640x480 with 1 Axes>"
      ]
     },
     "metadata": {},
     "output_type": "display_data"
    }
   ],
   "source": [
    "\n",
    "sns.histplot(df['Rating'], kde=True, stat='density')"
   ]
  }
 ],
 "metadata": {
  "kernelspec": {
   "display_name": "Python 3 (ipykernel)",
   "language": "python",
   "name": "python3"
  },
  "language_info": {
   "codemirror_mode": {
    "name": "ipython",
    "version": 3
   },
   "file_extension": ".py",
   "mimetype": "text/x-python",
   "name": "python",
   "nbconvert_exporter": "python",
   "pygments_lexer": "ipython3",
   "version": "3.11.2"
  }
 },
 "nbformat": 4,
 "nbformat_minor": 2
}
